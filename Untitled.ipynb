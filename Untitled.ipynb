{
 "cells": [
  {
   "cell_type": "code",
   "execution_count": 2,
   "id": "ebdd88d9-3390-4efd-90bf-246be417f1e4",
   "metadata": {},
   "outputs": [],
   "source": [
    "from collections import Counter\n",
    "import numpy as np"
   ]
  },
  {
   "cell_type": "code",
   "execution_count": 7,
   "id": "858baed6-4347-4d22-990a-69d5958a17cb",
   "metadata": {},
   "outputs": [],
   "source": [
    "y = [1,2,8,8,8,1,1,1,1,2,2,2,4,4,4,5,8,2,8]\n",
    "y = np.array(y)"
   ]
  },
  {
   "cell_type": "code",
   "execution_count": 8,
   "id": "837689d3-5fae-4302-96e5-a94a5a846a3e",
   "metadata": {},
   "outputs": [
    {
     "name": "stdout",
     "output_type": "stream",
     "text": [
      "1\n"
     ]
    }
   ],
   "source": [
    "counter = Counter(y)\n",
    "val = counter.most_common(1)[0][0]\n",
    "print(val)"
   ]
  },
  {
   "cell_type": "code",
   "execution_count": 9,
   "id": "a7c3050d-a45f-42f7-a95c-a99e68d46786",
   "metadata": {},
   "outputs": [
    {
     "name": "stdout",
     "output_type": "stream",
     "text": [
      "[1 2 4 5 8]\n"
     ]
    }
   ],
   "source": [
    "z = np.unique(y)\n",
    "print(z)"
   ]
  },
  {
   "cell_type": "code",
   "execution_count": 10,
   "id": "8e346179-8319-479c-88c2-c99b579cc2a7",
   "metadata": {},
   "outputs": [
    {
     "data": {
      "text/plain": [
       "5"
      ]
     },
     "execution_count": 10,
     "metadata": {},
     "output_type": "execute_result"
    }
   ],
   "source": [
    "len(z)"
   ]
  },
  {
   "cell_type": "code",
   "execution_count": 11,
   "id": "0e33cca1-65f9-4129-bbee-abb10de67443",
   "metadata": {},
   "outputs": [
    {
     "name": "stdout",
     "output_type": "stream",
     "text": [
      "Unique elements: [1 3 4 5 9]\n",
      "Counts: [1 3 4 1 1]\n"
     ]
    }
   ],
   "source": [
    "import numpy as np\n",
    "\n",
    "# Create a NumPy array\n",
    "arr = np.array([1, 9, 5, 3, 3, 3, 4, 4, 4, 4])\n",
    "\n",
    "# Get unique elements and their counts\n",
    "unique_elements, counts = np.unique(arr, return_counts=True)\n",
    "\n",
    "# Display the results\n",
    "print(\"Unique elements:\", unique_elements)\n",
    "print(\"Counts:\", counts)\n"
   ]
  },
  {
   "cell_type": "code",
   "execution_count": null,
   "id": "83f5f013-0b3b-495e-93d8-aa1de1865ab8",
   "metadata": {},
   "outputs": [],
   "source": []
  }
 ],
 "metadata": {
  "kernelspec": {
   "display_name": "Python 3 (ipykernel)",
   "language": "python",
   "name": "python3"
  },
  "language_info": {
   "codemirror_mode": {
    "name": "ipython",
    "version": 3
   },
   "file_extension": ".py",
   "mimetype": "text/x-python",
   "name": "python",
   "nbconvert_exporter": "python",
   "pygments_lexer": "ipython3",
   "version": "3.12.3"
  }
 },
 "nbformat": 4,
 "nbformat_minor": 5
}
