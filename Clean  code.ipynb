{
 "cells": [
  {
   "cell_type": "code",
   "execution_count": 1,
   "id": "003a3b77-ffab-47ee-b6b9-29eb4b66c7e9",
   "metadata": {},
   "outputs": [],
   "source": [
    "import numpy as np\n",
    "from collections import Counter"
   ]
  },
  {
   "cell_type": "code",
   "execution_count": 2,
   "id": "ba94b47e-6ffb-4020-86ab-878dfa0ac191",
   "metadata": {},
   "outputs": [],
   "source": [
    "class Node:\n",
    "    def __init__(self,left = None, right = None, threshold = None, feature = None, value = None):\n",
    "        self.left = left\n",
    "        self.right = right\n",
    "        self.threshold = threshold\n",
    "        self.feature = feature\n",
    "        self.value = value"
   ]
  },
  {
   "cell_type": "code",
   "execution_count": 3,
   "id": "b80a5e75-3c9c-4444-933e-2d2cca7d3cb8",
   "metadata": {},
   "outputs": [],
   "source": [
    "class Decision_Tree:\n",
    "    def __init__(self,min_sample_split = 2, max_depth = 100, n_features = None, tech = \"gini\"):\n",
    "        self.min_sample_split = min_sample_split,\n",
    "        self.max_depth = max_depth\n",
    "        self.n_features = n_features\n",
    "        self.tech = tech\n",
    "        self.criteria = { \"gini\": self.gini, \"entropy\" : self.entropy }\n",
    "\n",
    "    def fit(self,X,y):\n",
    "        if self.n_features is None:\n",
    "            self.n_features = X.shape[1]\n",
    "        self.root = self.grow_tree(X,y,depth = 0)\n",
    "\n",
    "    def grow_tree(self,X,y,depth):\n",
    "        n_rows , n_cols = X.shape\n",
    "        n_labels = len(np.unique(y))\n",
    "        \n",
    "        #Stop conition\n",
    "        if (self.max_depth<=depth or self.min_sample_split > n_rows or  n_labels == 1):\n",
    "            val = self.most_frequent(y)\n",
    "            return Node(value = val)\n",
    "\n",
    "        #Best split\n",
    "        feature_index = np.random.choice(n_cols, self.n_features, replace = False) \n",
    "        best_threshold, best_feature = self.best_split(X,y,feature_index)\n",
    "\n",
    "        #Child node\n",
    "        left_index, right_index = self.split(X[:,best_feature],best_threshold)\n",
    "\n",
    "        left = self.grow_tree(X[left_index,:],y[left_index],depth+1)\n",
    "        right = self.grow_tree(X[right_index,:],y[right_index],depth+1)\n",
    "\n",
    "        return Node(left,right,best_threshold,best_feature)\n",
    "\n",
    "    def most_frequent(self,y):\n",
    "        if len(y)==0:\n",
    "            return None\n",
    "        count = Counter(y)\n",
    "        frequency = count.most_common(1)[0][0]\n",
    "        return frequency\n",
    "        \n",
    "    def split(self,X_col,thres):\n",
    "        left_index = np.argwhere(X_col>=thres).flatten()\n",
    "        right_index = np.argwhere(X_col<thres).flatten()\n",
    "        return left_index, right_index\n",
    "\n",
    "    def entropy(self,y):\n",
    "        n = len(y)\n",
    "        P = np.bincount(y)/n\n",
    "        return (-np.sum([p*np.log(p) for p in P if p > 0]))\n",
    "\n",
    "    def gini(self,y):\n",
    "        n = len(y)\n",
    "        p = np.bincount(y)/n\n",
    "        return 1-np.sum([p**2 for p in P if p > 0])\n",
    "        \n",
    "    def info_gain_ratio(self,X_col,thres):\n",
    "        info_gain = self.info_gain(X_col,thres)\n",
    "        left_index, right_index = self.split(X_col,thres)\n",
    "        n = len(left_index+right_index)\n",
    "        p_left = len(left_index)/n\n",
    "        p_right = len(right_index)/n\n",
    "        split_info = - (p_left * np.log2(p_left) + p_right * np.log2(p_right))\n",
    "        return info_gain/ split_info if split_info! = 0 else 0\n",
    "        \n",
    "    def chi_square(self,left_y,right_y):\n",
    "        total = len(left_y+right_y)\n",
    "        left_count = np.bincount(left_y)\n",
    "        right_count = np.bincount(right_y)\n",
    "        expected_left = \n",
    "        \n",
    "    \n",
    "    def info_gain(self,X_col,y,thres):\n",
    "        parent = self.criteria[self.tech](y)\n",
    "\n",
    "        left_index,right_index = self.split(X_col,thres)\n",
    "\n",
    "        if len(left_index) == 0 or len(right_index) == 0:\n",
    "            return 0\n",
    "\n",
    "        #Weighted average of children\n",
    "        n = len(y)\n",
    "        weight_left, weight_right = len(left_index)/n , len(right_index)/n\n",
    "        info_left, info_right = self.criteria[self.tech](y[left_index]), self.criteria[self.tech](y[right_index])\n",
    "        child = weight_left*info_left + weight_right*info_right\n",
    "\n",
    "        return parent - child\n",
    "        \n",
    "        \n",
    "    def best_split(self,X,y,feature_index):\n",
    "        best_info_gain = -1\n",
    "\n",
    "        split_index = None\n",
    "        split_threshold = None\n",
    "\n",
    "        for index in feature_index:\n",
    "            X_col = X[:,index]\n",
    "            X_col_threshold = np.unique(X_col)\n",
    "            for thres in X_col_threshold:\n",
    "                gain = self.info_gain(X_col,y,thres)\n",
    "                if gain > best_info_gain:\n",
    "                    split_index = index\n",
    "                    split_threshold = thres\n",
    "                    best_info_gain = gain\n",
    "                    \n",
    "        return split_threshold, split_index\n"
   ]
  },
  {
   "cell_type": "code",
   "execution_count": 5,
   "id": "580cf0ec-a3aa-495a-93bf-bbab4ca26349",
   "metadata": {},
   "outputs": [
    {
     "name": "stdout",
     "output_type": "stream",
     "text": [
      "  Feature1 Feature2  Target\n",
      "0        A        X       1\n",
      "1        A        Y       0\n",
      "2        B        X       1\n",
      "3        B        Y       0\n",
      "4        A        X       1\n"
     ]
    }
   ],
   "source": [
    "import pandas as pd\n",
    "\n",
    "# Example dataset\n",
    "data = {\n",
    "    'Feature1': ['A', 'A', 'B', 'B', 'A'],\n",
    "    'Feature2': ['X', 'Y', 'X', 'Y', 'X'],\n",
    "    'Target': [1, 0, 1, 0, 1]\n",
    "}\n",
    "df = pd.DataFrame(data)\n",
    "print(df)"
   ]
  },
  {
   "cell_type": "code",
   "execution_count": 6,
   "id": "cbdd9f37-948c-4aec-91a2-df2928c6d667",
   "metadata": {},
   "outputs": [
    {
     "name": "stdout",
     "output_type": "stream",
     "text": [
      "Target    0  1\n",
      "Feature1      \n",
      "A         1  2\n",
      "B         1  1\n"
     ]
    }
   ],
   "source": [
    "def calculate_contingency_table(df, feature, target):\n",
    "    return pd.crosstab(df[feature], df[target])\n",
    "\n",
    "# Example for Feature1\n",
    "contingency_table = calculate_contingency_table(df, 'Feature1', 'Target')\n",
    "print(contingency_table)\n"
   ]
  },
  {
   "cell_type": "code",
   "execution_count": null,
   "id": "3c7c7b54-ad6f-4bbf-a226-334ca9c11219",
   "metadata": {},
   "outputs": [],
   "source": []
  }
 ],
 "metadata": {
  "kernelspec": {
   "display_name": "Python 3 (ipykernel)",
   "language": "python",
   "name": "python3"
  },
  "language_info": {
   "codemirror_mode": {
    "name": "ipython",
    "version": 3
   },
   "file_extension": ".py",
   "mimetype": "text/x-python",
   "name": "python",
   "nbconvert_exporter": "python",
   "pygments_lexer": "ipython3",
   "version": "3.12.3"
  }
 },
 "nbformat": 4,
 "nbformat_minor": 5
}
