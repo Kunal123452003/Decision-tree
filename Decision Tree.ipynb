{
 "cells": [
  {
   "cell_type": "code",
   "execution_count": 3,
   "id": "1b067414-c240-4e14-a2b1-42d0940d69df",
   "metadata": {},
   "outputs": [],
   "source": [
    "import numpy as np\n",
    "from collections import Counter"
   ]
  },
  {
   "cell_type": "code",
   "execution_count": 2,
   "id": "bb9c934c-8b14-4cc6-9b4d-b9ed6dc3ad0d",
   "metadata": {},
   "outputs": [],
   "source": [
    "class Node:\n",
    "    def __init__(self,left=None, right=None, value=None, threshold=None, feature=None):\n",
    "        self.left = left\n",
    "        self.right = right\n",
    "        self.threshold = threshold\n",
    "        self.value = value\n",
    "        self.feature = feature\n",
    "     \n",
    "    "
   ]
  },
  {
   "cell_type": "code",
   "execution_count": null,
   "id": "82e9c720-0bbc-4912-8dd1-86118e6320a0",
   "metadata": {},
   "outputs": [],
   "source": [
    "class Decision_Tree:\n",
    "    def __init__(self,min_sample_split=2, max_depth=100, n_features = None):\n",
    "        self.min_sample_split=min_sample_split\n",
    "        self.max_depth = max_depth\n",
    "        self.n_features = n_features\n",
    "        self.root = None\n",
    "\n",
    "    def fit(self,X,y):\n",
    "        self.n_features = X.shape[1]\n",
    "        self.root = self.grow_tree(X,y,0)\n",
    "\n",
    "    def grow_tree(self,X,y,depth):\n",
    "        n_rows, n_cols = X.shape\n",
    "        n_labels = len(np.unique(y))\n",
    "        \n",
    "        # Stop condition\n",
    "        if (depth>=max_depth or n_labels == 1 or n_rows<self.min_sample_split):\n",
    "            val = self.most_frequent_label(y)\n",
    "            return Node(value = val)\n",
    "\n",
    "        # Best Split condition\n",
    "        feature_index = np.random.choice(n_cols, size = n_features, replace = False)    # To randomly select features/cols\n",
    "        best_threshold, best_feature = self.best_split(X,y,feature_index)\n",
    "    \n",
    "        #Create child node\n",
    "\n",
    "    def most_frequent_label(self,y):    # This will return the first most frequent lable from y\n",
    "        count = Counter(y)\n",
    "        frequency = counter.most_common(1)[0][0]\n",
    "        return frequency\n",
    "\n",
    "    def entropy(self):\n",
    "\n",
    "    def info_gain(self):\n",
    "\n",
    "    def best_split(self,X,y,idx):\n",
    "        best_info_gain = -1\n",
    "        split_index= None\n",
    "        split_threshold = None\n",
    "    \n",
    "    def predict(self,X):\n",
    "        "
   ]
  }
 ],
 "metadata": {
  "kernelspec": {
   "display_name": "Python 3 (ipykernel)",
   "language": "python",
   "name": "python3"
  },
  "language_info": {
   "codemirror_mode": {
    "name": "ipython",
    "version": 3
   },
   "file_extension": ".py",
   "mimetype": "text/x-python",
   "name": "python",
   "nbconvert_exporter": "python",
   "pygments_lexer": "ipython3",
   "version": "3.12.3"
  }
 },
 "nbformat": 4,
 "nbformat_minor": 5
}
